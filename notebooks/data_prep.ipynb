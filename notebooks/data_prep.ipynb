{
 "cells": [
  {
   "cell_type": "markdown",
   "metadata": {},
   "source": [
    "# Data Preparation + Workflow Notebook\n"
   ]
  },
  {
   "cell_type": "markdown",
   "metadata": {},
   "source": [
    "### installing libraries and packages\n"
   ]
  },
  {
   "cell_type": "code",
   "execution_count": null,
   "metadata": {},
   "outputs": [],
   "source": [
    "%pip install svgwrite\n",
    "%pip install openai\n",
    "%pip install aspose-words\n",
    "%pip install azure-storage-blob\n",
    "%pip install azure-identity\n"
   ]
  },
  {
   "cell_type": "code",
   "execution_count": null,
   "metadata": {},
   "outputs": [],
   "source": [
    "json_output = []"
   ]
  },
  {
   "cell_type": "code",
   "execution_count": null,
   "metadata": {},
   "outputs": [],
   "source": [
    "import requests\n",
    "import subprocess\n",
    "import aspose.words as aw\n",
    "import base64\n",
    "from mimetypes import guess_type"
   ]
  },
  {
   "cell_type": "markdown",
   "metadata": {},
   "source": [
    "### Function to convert SVG image to PNG format"
   ]
  },
  {
   "cell_type": "code",
   "execution_count": null,
   "metadata": {},
   "outputs": [],
   "source": [
    "\n",
    "def convert_image_to_PNG(image_url):\n",
    "    doc=aw.Document()\n",
    "    builder = aw.DocumentBuilder(doc)\n",
    "\n",
    "    svg_url=image_url\n",
    "    svg_file=\"./temp.svg\"\n",
    "    jpeg_file=\"./output.PNG\"\n",
    "\n",
    "    response = requests.get(svg_url)\n",
    "    if response.status_code == 200:\n",
    "        with open(svg_file, \"wb\") as file:\n",
    "            file.write(response.content)\n",
    "        print(\"SVG downloaded successfully.\")\n",
    "        shape = builder.insert_image(svg_file)\n",
    "        shape.get_shape_renderer().save(jpeg_file, aw.saving.ImageSaveOptions(aw.SaveFormat.PNG))\n",
    "    \n",
    "    \n",
    "\n",
    "\n",
    "   "
   ]
  },
  {
   "cell_type": "markdown",
   "metadata": {},
   "source": [
    "### Generating local URL for the image"
   ]
  },
  {
   "cell_type": "code",
   "execution_count": null,
   "metadata": {},
   "outputs": [],
   "source": [
    "\n",
    "\n",
    "def local_image_data_to_url():\n",
    "    image_path=\"./output.png\"\n",
    "    # Guess the MIME type of the image based on the file extension\n",
    "    mime_type, _ = guess_type(image_path)\n",
    "    if mime_type is None:\n",
    "        mime_type = 'application/octet-stream'\n",
    "    \n",
    "    with open(image_path, \"rb\") as image_file:\n",
    "        base64_encoded_data = base64.b64encode(image_file.read()).decode('utf-8')\n",
    "    \n",
    "    return f\"data:{mime_type};base64,{base64_encoded_data}\""
   ]
  },
  {
   "cell_type": "markdown",
   "metadata": {},
   "source": [
    "### Creating an Azure OpenAI Client"
   ]
  },
  {
   "cell_type": "code",
   "execution_count": null,
   "metadata": {},
   "outputs": [],
   "source": [
    "import os \n",
    "from openai import AzureOpenAI\n",
    "from dotenv import load_dotenv\n",
    "\n",
    "load_dotenv()\n",
    "openai_key = os.getenv(\"AZURE_OPENAI_KEY\")\n",
    "openai_endpoint = os.getenv(\"AZURE_OPENAI_ENDPOINT\")\n",
    "embedding_engine = os.getenv(\"EMBEDDING_ENGINE\")\n",
    "gpt_model = os.getenv(\"GPT_MODEL\")\n",
    "\n",
    "\n",
    "\n"
   ]
  },
  {
   "cell_type": "code",
   "execution_count": null,
   "metadata": {},
   "outputs": [],
   "source": [
    "client = AzureOpenAI(\n",
    "    azure_endpoint = openai_endpoint, \n",
    "    api_key=openai_key,  \n",
    "    api_version=\"2024-02-15-preview\"\n",
    "  )"
   ]
  },
  {
   "cell_type": "markdown",
   "metadata": {},
   "source": [
    "### Defining the ChatCompletionAPI function for labelling each image and creating data for Database"
   ]
  },
  {
   "cell_type": "code",
   "execution_count": null,
   "metadata": {},
   "outputs": [],
   "source": [
    "def chat_completions_API(local_image_url, blob_image_url):\n",
    "\n",
    "  \n",
    "\n",
    "  system_prompt = f\"\"\"You are a helpful AI assitant meant to assist me in my work. I am trying to build a solution that lets people search for \n",
    "  azure icons in their svg format. I will be passing you an image for which you need to generate information in the following manner (these images are\n",
    "  nothing but Azure icons, so use appropriate knowledge):\n",
    "\n",
    "  \"name\":\"<suitable name for the image>\"\n",
    "  \"description\":\"<description of what the icon is; you can maybe include the Azure service name and the description of the service; if lets say\n",
    "  the image is about Azure Active Directory then you can include what Azure Active Directory is>\" \n",
    "  \"similar_words\": \"<similar names or words that relate to this Azure service that the icon is about>\" \n",
    "\n",
    "  Sample Output:\n",
    "    \n",
    "    \"name\": \"Azure Backup\",\n",
    "    \"description\": \"Azure Backup is a service that provides simple, secure, and cost-effective solutions to back up your data and recover it from the Microsoft Azure cloud.\",\n",
    "    \"similar_words\": \"cloud backup, data recovery, Azure cloud storage, secure backup solutions\"\n",
    "    \"url\":\"https://azureiconskuljot.blob.core.windows.net/azureicons/00017-icon-service-Recovery-Services-Vaults.svg\"\n",
    "    \n",
    "  the output format should not look like:\n",
    "  ```json\n",
    "  {{\n",
    "  \"name\": \"App Service Certificates\",\n",
    "  \"description\": \"App Service Certificates is a service in Azure that provides a simple and user-friendly way to purchase, manage, and deploy SSL/TLS certificates for your Azure App Services.\",\n",
    "  \"similar_words\": \"SSL certificates, TLS certificates, Azure App Services, secure web applications\",\n",
    "  \"url\": \"https://azureiconskuljot.blob.core.windows.net/pngicons/00049-icon-service-App-Service-Certificates.png\"\n",
    "  }}\n",
    "  ```\n",
    "\n",
    "  strictly adhere to this sample output format\n",
    "\n",
    "  I will be storing all this information in Azure CosmosDB with vector embeddings. the vector embeddings will be generated for the name, description and \n",
    "  similar_words fields so that I can perform a similarity search and efficiently help user in retrieving the best suitable Azure Service icon; so make\n",
    "  sure that you fill in the fields accordingly in a manner that best helps to fit into my use-case/side project that I am building\"\"\"\n",
    "\n",
    "  response = client.chat.completions.create(\n",
    "      model=\"gpt-4o\",\n",
    "      messages = [\n",
    "          {\n",
    "              \"role\":\"system\",\n",
    "              \"content\":system_prompt\n",
    "          },\n",
    "          {\n",
    "              \"role\":\"user\",\n",
    "              \"content\":[\n",
    "                  {\n",
    "                      \"type\":\"text\",\n",
    "                      \"text\":\"analyse and generate information for this picture according to the system prompt fed to you; note that the url of the image in blog storage container is:\" + str(blob_image_url)\n",
    "                  },\n",
    "                  {\n",
    "                      \"type\":\"image_url\",\n",
    "                      \"image_url\":{\n",
    "                          \"url\":local_image_url\n",
    "                      }\n",
    "                  }\n",
    "              ]\n",
    "          }\n",
    "      ],\n",
    "      temperature=0\n",
    "  )\n",
    "\n",
    "  print(response.choices[0].message.content)\n",
    "\n",
    "  json_output.append(response.choices[0].message.content)\n"
   ]
  },
  {
   "cell_type": "markdown",
   "metadata": {},
   "source": [
    "### Generating the compiled function for data preparation"
   ]
  },
  {
   "cell_type": "code",
   "execution_count": null,
   "metadata": {},
   "outputs": [],
   "source": [
    "def generate_complete_data(image_url):\n",
    "    convert_image_to_PNG(image_url)\n",
    "    local_url = local_image_data_to_url()\n",
    "    chat_completions_API(local_image_url=local_url, blob_image_url=image_url)"
   ]
  },
  {
   "cell_type": "markdown",
   "metadata": {},
   "source": [
    "### Pulling images from storage account and creating the dataset"
   ]
  },
  {
   "cell_type": "code",
   "execution_count": null,
   "metadata": {},
   "outputs": [],
   "source": [
    "from azure.storage.blob import BlobServiceClient, BlobClient, ContainerClient\n",
    "\n",
    "containerName = os.getenv(\"STORAGE_CONTAINER_NAME\")\n",
    "storage_connection_string = os.getenv(\"AZURE_STORAGE_CONNECTION_STRING\")\n",
    "\n",
    "blob_service_client = BlobServiceClient.from_connection_string(storage_connection_string)\n",
    "\n",
    "container_client = blob_service_client.get_container_client(container=containerName)\n",
    "\n",
    "print(container_client)\n",
    "\n",
    "blob_list = container_client.list_blobs()\n",
    "\n",
    "print(\"accessing blobs from storage account\")\n",
    "print(\"-------------------------------------------------\")\n",
    "\n",
    "for blob in blob_list:\n",
    "    blob_client= blob_service_client.get_blob_client(container=containerName, blob=blob.name)\n",
    "    blob_url=blob_client.url\n",
    "    generate_complete_data(blob_url)\n",
    "    \n",
    "    "
   ]
  },
  {
   "cell_type": "code",
   "execution_count": null,
   "metadata": {},
   "outputs": [],
   "source": [
    "print(json_output)"
   ]
  },
  {
   "cell_type": "code",
   "execution_count": null,
   "metadata": {},
   "outputs": [],
   "source": [
    "import json\n",
    "\n",
    "dict_data = dict()\n",
    "\n",
    "with open(\"./data.json\", 'w') as json_file:\n",
    " data_dicts = [json.loads(\"{\" + item + \"}\") for item in json_output]\n",
    "    \n",
    " json.dump(data_dicts, json_file, indent=4)\n",
    "\n",
    "           "
   ]
  },
  {
   "cell_type": "markdown",
   "metadata": {},
   "source": [
    "### Defining a Vector Embeddings Generator Function"
   ]
  },
  {
   "cell_type": "code",
   "execution_count": null,
   "metadata": {},
   "outputs": [],
   "source": [
    "def generate_embeddings(item):\n",
    "    embeddings_response = client.embeddings.create(\n",
    "        input=item,\n",
    "        model=\"text-embedding-ada-002\"\n",
    "    )\n",
    "    \n",
    "    embeddings_dict =  embeddings_response.model_dump()\n",
    "    \n",
    "    return embeddings_dict['data'][0]['embedding']"
   ]
  },
  {
   "cell_type": "markdown",
   "metadata": {},
   "source": [
    "### Populating dataset with Vector Embeddings"
   ]
  },
  {
   "cell_type": "code",
   "execution_count": null,
   "metadata": {},
   "outputs": [],
   "source": [
    "import json\n",
    "with open(\"data.json\",\"r\") as json_file:\n",
    "    file_data = json.load(json_file)\n",
    "    \n",
    "\n",
    "for item in file_data:\n",
    "        data_for_embeddings_engine = f\"\"\"\"\n",
    "        name: {item.get('name')}\n",
    "        description: {item.get('description')}\n",
    "        similar_words: {item.get('similar_words')}\n",
    "        \n",
    "        \"\"\"\n",
    "        \n",
    "        print (data_for_embeddings_engine)\n",
    "        \n",
    "        embeddings = generate_embeddings(data_for_embeddings_engine)\n",
    "        \n",
    "        item['vector'] = embeddings\n",
    "        \n",
    "    \n",
    "    \n",
    "        \n",
    "       \n",
    "with open(\"data.json\",\"w\") as json_file: \n",
    " json.dump(file_data, json_file, indent=4)\n",
    "\n",
    "    \n"
   ]
  },
  {
   "cell_type": "markdown",
   "metadata": {},
   "source": [
    "### Installing Python SDK for azure cosmos DB"
   ]
  },
  {
   "cell_type": "code",
   "execution_count": null,
   "metadata": {},
   "outputs": [],
   "source": [
    "%pip install azure-cosmos"
   ]
  },
  {
   "cell_type": "markdown",
   "metadata": {},
   "source": [
    "### Creating a Database Client\n"
   ]
  },
  {
   "cell_type": "code",
   "execution_count": null,
   "metadata": {},
   "outputs": [],
   "source": [
    "from azure.cosmos import CosmosClient, PartitionKey, exceptions\n",
    "load_dotenv()\n",
    "cosmosdb_connection_string = os.getenv(\"COSMOSDB_CONNECTION_STRING\")\n",
    "\n",
    "cosmos_client = CosmosClient.from_connection_string(cosmosdb_connection_string)\n",
    "database_name = os.getenv(\"DATABASE_NAME\")\n",
    "\n",
    "database = cosmos_client.create_database_if_not_exists(id=database_name)"
   ]
  },
  {
   "cell_type": "markdown",
   "metadata": {},
   "source": [
    "### Defining a Vector Embedding Policy"
   ]
  },
  {
   "cell_type": "code",
   "execution_count": null,
   "metadata": {},
   "outputs": [],
   "source": [
    "pk = \"/name\"\n",
    "\n",
    "vector_embedding_policy = {\n",
    "    \"vectorEmbeddings\": [\n",
    "        {\n",
    "            \"path\":\"/vector\",\n",
    "            \"dataType\":\"float32\",\n",
    "            \"distanceFunction\":\"cosine\",\n",
    "            \"dimensions\":1536\n",
    "        }\n",
    "    ]\n",
    "}"
   ]
  },
  {
   "cell_type": "markdown",
   "metadata": {},
   "source": [
    "### Defining a Vector Indexing Policy\n"
   ]
  },
  {
   "cell_type": "code",
   "execution_count": null,
   "metadata": {},
   "outputs": [],
   "source": [
    "indexing_policy = {\n",
    "    \"vectorIndexes\": [\n",
    "        {\n",
    "            \"path\":\"/vector\",\n",
    "            \"type\":\"diskANN\"\n",
    "        }\n",
    "\n",
    "    ]\n",
    "}"
   ]
  },
  {
   "cell_type": "markdown",
   "metadata": {},
   "source": [
    "### Creating a Container Finally\n"
   ]
  },
  {
   "cell_type": "code",
   "execution_count": null,
   "metadata": {},
   "outputs": [],
   "source": [
    "try:\n",
    "    container_name = os.getenv(\"COSMOSDB_CONTAINER_NAME\")\n",
    "    \n",
    "    container = database.create_container_if_not_exists(\n",
    "        id=container_name,\n",
    "        partition_key=PartitionKey(path=pk),\n",
    "        indexing_policy=indexing_policy,\n",
    "        vector_embedding_policy=vector_embedding_policy\n",
    "        \n",
    "    )\n",
    "    \n",
    "except Exception as e:\n",
    "    print(e)"
   ]
  },
  {
   "cell_type": "markdown",
   "metadata": {},
   "source": [
    "### Upserting Data into our container"
   ]
  },
  {
   "cell_type": "code",
   "execution_count": null,
   "metadata": {},
   "outputs": [],
   "source": [
    "import uuid\n",
    "\n",
    "with open(\"data.json\", \"r\") as json_file:\n",
    "    data = json.load(json_file)\n",
    "    \n",
    "for obj in data:\n",
    "    guid = str(uuid.uuid4())\n",
    "    obj['id'] = guid\n",
    "    container.upsert_item(obj)\n",
    "\n",
    "\n",
    "    "
   ]
  },
  {
   "cell_type": "markdown",
   "metadata": {},
   "source": [
    "### Vectorising the user query"
   ]
  },
  {
   "cell_type": "code",
   "execution_count": null,
   "metadata": {},
   "outputs": [],
   "source": [
    "user_query = \"azure cosmosdb\"\n",
    "user_query_embeddings = generate_embeddings(user_query)\n",
    "print(user_query_embeddings)"
   ]
  },
  {
   "cell_type": "markdown",
   "metadata": {},
   "source": [
    "### Retrieving best results for the user query"
   ]
  },
  {
   "cell_type": "code",
   "execution_count": null,
   "metadata": {},
   "outputs": [],
   "source": [
    "queryText = f\"\"\" SELECT TOP 5 c.name, c.description, c.similar_words, c.url, VectorDistance(c.vector, {user_query_embeddings}) AS SimilarityScore\n",
    "FROM c\n",
    "ORDER BY VectorDistance(c.vector, {user_query_embeddings})\"\"\"\n",
    "query_results = container.query_items(\n",
    "    query=queryText,\n",
    "    enable_cross_partition_query=True\n",
    ")\n",
    "\n",
    "images=[]\n",
    "\n",
    "for item in query_results:\n",
    "    print(item)\n",
    "    images.append(item)"
   ]
  }
 ],
 "metadata": {
  "kernelspec": {
   "display_name": "Python 3",
   "language": "python",
   "name": "python3"
  },
  "language_info": {
   "codemirror_mode": {
    "name": "ipython",
    "version": 3
   },
   "file_extension": ".py",
   "mimetype": "text/x-python",
   "name": "python",
   "nbconvert_exporter": "python",
   "pygments_lexer": "ipython3",
   "version": "3.11.5"
  }
 },
 "nbformat": 4,
 "nbformat_minor": 2
}
